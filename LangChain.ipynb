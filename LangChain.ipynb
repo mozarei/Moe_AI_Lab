{
 "cells": [
  {
   "cell_type": "code",
   "execution_count": 10,
   "id": "0be15803-f4f0-4ccf-955b-f64be8bace83",
   "metadata": {},
   "outputs": [
    {
     "name": "stdout",
     "output_type": "stream",
     "text": [
      "sk-SjD9elg4weeSHsHn8SWpRWCb7cCFbLuhQ3YIW31A\n"
     ]
    },
    {
     "ename": "NameError",
     "evalue": "name 'StrOutputParser' is not defined",
     "output_type": "error",
     "traceback": [
      "\u001b[0;31m---------------------------------------------------------------------------\u001b[0m",
      "\u001b[0;31mNameError\u001b[0m                                 Traceback (most recent call last)",
      "Cell \u001b[0;32mIn[10], line 33\u001b[0m\n\u001b[1;32m     19\u001b[0m llm \u001b[38;5;241m=\u001b[39m ChatOpenAI(\n\u001b[1;32m     20\u001b[0m     model\u001b[38;5;241m=\u001b[39m\u001b[38;5;124m\"\u001b[39m\u001b[38;5;124mgpt-4o-2024-05-13\u001b[39m\u001b[38;5;124m\"\u001b[39m,\n\u001b[1;32m     21\u001b[0m     temperature\u001b[38;5;241m=\u001b[39m\u001b[38;5;241m0\u001b[39m,\n\u001b[1;32m     22\u001b[0m     organization\u001b[38;5;241m=\u001b[39morganization,\n\u001b[1;32m     23\u001b[0m     api_key\u001b[38;5;241m=\u001b[39mapi_key\n\u001b[1;32m     24\u001b[0m )\n\u001b[1;32m     25\u001b[0m prompt \u001b[38;5;241m=\u001b[39m ChatPromptTemplate\u001b[38;5;241m.\u001b[39mfrom_messages([\n\u001b[1;32m     26\u001b[0m     SystemMessagePromptTemplate\u001b[38;5;241m.\u001b[39mfrom_template(\n\u001b[1;32m     27\u001b[0m         \u001b[38;5;124m\"\u001b[39m\u001b[38;5;124mYou are an assistant tasked with answering queries about the U.S.\u001b[39m\u001b[38;5;124m\"\u001b[39m\n\u001b[0;32m   (...)\u001b[0m\n\u001b[1;32m     31\u001b[0m     MessagesPlaceholder(variable_name\u001b[38;5;241m=\u001b[39m\u001b[38;5;124m\"\u001b[39m\u001b[38;5;124mmessages\u001b[39m\u001b[38;5;124m\"\u001b[39m)\n\u001b[1;32m     32\u001b[0m ])\n\u001b[0;32m---> 33\u001b[0m parser \u001b[38;5;241m=\u001b[39m \u001b[43mStrOutputParser\u001b[49m()\n\u001b[1;32m     35\u001b[0m chain \u001b[38;5;241m=\u001b[39m prompt \u001b[38;5;241m|\u001b[39m llm \u001b[38;5;241m|\u001b[39m parser\n\u001b[1;32m     37\u001b[0m response \u001b[38;5;241m=\u001b[39m chain\u001b[38;5;241m.\u001b[39minvoke({\n\u001b[1;32m     38\u001b[0m     \u001b[38;5;124m\"\u001b[39m\u001b[38;5;124mmessages\u001b[39m\u001b[38;5;124m\"\u001b[39m: [\n\u001b[1;32m     39\u001b[0m         HumanMessage(content\u001b[38;5;241m=\u001b[39m\u001b[38;5;124m\"\u001b[39m\u001b[38;5;124mWhat are the operational components of the DHS?\u001b[39m\u001b[38;5;124m\"\u001b[39m)\n\u001b[1;32m     40\u001b[0m     ],\n\u001b[1;32m     41\u001b[0m })\n",
      "\u001b[0;31mNameError\u001b[0m: name 'StrOutputParser' is not defined"
     ]
    }
   ],
   "source": [
    "from langchain_openai import ChatOpenAI\n",
    "from langchain.output_parsers import StrOutputParser\n",
    "from langchain.prompts import ChatPromptTemplate\n",
    "from langchain.prompts.chat import SystemMessagePromptTemplate\n",
    "from langchain_core.prompts import MessagesPlaceholder\n",
    "from langchain_core.messages import HumanMessage\n",
    "\n",
    "import os\n",
    "from dotenv import load_dotenv\n",
    "\n",
    "\n",
    "load_dotenv()\n",
    "\n",
    "api_key = os.getenv(\"OPENAI_API_KEY\")\n",
    "organization = os.getenv(\"OPENAI_ORG_ID\")\n",
    "\n",
    "\n",
    "llm = ChatOpenAI(\n",
    "    model=\"gpt-4o-2024-05-13\",\n",
    "    temperature=0,\n",
    "    organization=organization,\n",
    "    api_key=api_key\n",
    ")\n",
    "prompt = ChatPromptTemplate.from_messages([\n",
    "    SystemMessagePromptTemplate.from_template(\n",
    "        \"You are an assistant tasked with answering queries about the U.S.\"\n",
    "        \" Government. Respond concisely, do not ask follow-up questions or\" \n",
    "        \" provide additional context.\"\n",
    "    ), \n",
    "    MessagesPlaceholder(variable_name=\"messages\")\n",
    "])\n",
    "parser = StrOutputParser()\n",
    "\n",
    "chain = prompt | llm | parser\n",
    "\n",
    "response = chain.invoke({\n",
    "    \"messages\": [\n",
    "        HumanMessage(content=\"What are the operational components of the DHS?\")\n",
    "    ],\n",
    "})\n",
    "components = response.split(\"\\n\")\n",
    "\n",
    "response = chain.invoke({\n",
    "    \"messages\": [\n",
    "        HumanMessage(content=\"What year was each created?\")\n",
    "    ],\n",
    "})\n",
    "years = response.split(\"\\n\")\n",
    "\n",
    "for component, year in zip(components, years):\n",
    "    print(f\"The {component} was created in {year}.\")\n",
    "\n",
    "\n"
   ]
  },
  {
   "cell_type": "code",
   "execution_count": 9,
   "id": "ccd8695b-7d99-44ff-b75f-a1df13d5532f",
   "metadata": {},
   "outputs": [
    {
     "name": "stdout",
     "output_type": "stream",
     "text": [
      "Collecting python-dotenv\n",
      "  Using cached python_dotenv-1.0.1-py3-none-any.whl.metadata (23 kB)\n",
      "Using cached python_dotenv-1.0.1-py3-none-any.whl (19 kB)\n",
      "Installing collected packages: python-dotenv\n",
      "Successfully installed python-dotenv-1.0.1\n"
     ]
    }
   ],
   "source": [
    "!pip install python-dotenv"
   ]
  },
  {
   "cell_type": "code",
   "execution_count": null,
   "id": "4e2e49c2-cead-4282-853d-d7cf52aff349",
   "metadata": {},
   "outputs": [],
   "source": []
  }
 ],
 "metadata": {
  "kernelspec": {
   "display_name": "Python 3 (ipykernel)",
   "language": "python",
   "name": "python3"
  },
  "language_info": {
   "codemirror_mode": {
    "name": "ipython",
    "version": 3
   },
   "file_extension": ".py",
   "mimetype": "text/x-python",
   "name": "python",
   "nbconvert_exporter": "python",
   "pygments_lexer": "ipython3",
   "version": "3.12.6"
  }
 },
 "nbformat": 4,
 "nbformat_minor": 5
}
