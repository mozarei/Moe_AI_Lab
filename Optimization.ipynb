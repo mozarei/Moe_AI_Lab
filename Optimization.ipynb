{
 "cells": [
  {
   "cell_type": "code",
   "execution_count": 10,
   "id": "066d8498-6324-4d2e-8f8c-0b355906812f",
   "metadata": {},
   "outputs": [],
   "source": [
    "import math\n",
    "from typing import TypeVar\n",
    "import numpy as np\n",
    "\n",
    "T = TypeVar(\"T\", bound=np.generic, covariant=True)\n",
    "Vector = np.ndarray[tuple[int], np.dtype[T]]\n",
    "Matrix = np.ndarray[tuple[int, int], np.dtype[T]]\n",
    "\n",
    "def get_neighbors(data: Matrix, query: Vector, num_neighbors: int) -> list[int]:\n",
    "    n, m = data.shape\n",
    "    \n",
    "    distances = []\n",
    "    for ref in data:\n",
    "        sq_dist = 0.0\n",
    "        for i in range(m):\n",
    "            sq_dist += (ref[i] - query[i]) ** 2\n",
    "        distances.append(math.sqrt(sq_dist))\n",
    "\n",
    "    print(f\"distances are {distances}\")\n",
    "    \n",
    "    neighbors = sorted(range(n), key=distances.__getitem__)\n",
    "    \n",
    "    return list(neighbors)[:num_neighbors]"
   ]
  },
  {
   "cell_type": "code",
   "execution_count": 11,
   "id": "e4e6ef9d-f0f3-41fa-aef2-822d4344a0c0",
   "metadata": {},
   "outputs": [
    {
     "name": "stdout",
     "output_type": "stream",
     "text": [
      "distances are [4.242640687119285, 1.4142135623730951, 1.4142135623730951, 4.242640687119285]\n",
      "Neighbors: [1, 2, 0, 3]\n"
     ]
    }
   ],
   "source": [
    "import numpy as np\n",
    "\n",
    "# Define example matrix and vector\n",
    "data = np.array([[1, 2], [3, 4], [5, 6], [7, 8]])\n",
    "query = np.array([4, 5])\n",
    "\n",
    "# Number of neighbors to find\n",
    "num_neighbors = 4\n",
    "\n",
    "# Get the neighbors\n",
    "neighbors = get_neighbors(data, query, num_neighbors)\n",
    "print(\"Neighbors:\", neighbors)\n"
   ]
  },
  {
   "cell_type": "code",
   "execution_count": 14,
   "id": "7f3c4536-3e54-4451-a3c2-09bc62c707ed",
   "metadata": {},
   "outputs": [
    {
     "name": "stdout",
     "output_type": "stream",
     "text": [
      "distances are [4.24264069 1.41421356 1.41421356 4.24264069]\n",
      "neighbors are: [1 2 0 3]\n",
      "Neighbors: [1, 2]\n"
     ]
    }
   ],
   "source": [
    "import numpy as np\n",
    "\n",
    "Vector = np.ndarray\n",
    "Matrix = np.ndarray\n",
    "\n",
    "def get_neighbors(data: Matrix, query: Vector, num_neighbors: int) -> list[int]:\n",
    "    # Calculate distances between query and all rows in data\n",
    "    distances = np.linalg.norm(data - query, axis=1)\n",
    "    print(f\"distances are {distances}\")\n",
    "    \n",
    "    # Get indices of the sorted distances\n",
    "    neighbors = np.argsort(distances)\n",
    "    print(f\"neighbors are: {neighbors}\")\n",
    "    \n",
    "    # Return the indices of the closest neighbors\n",
    "    return list(neighbors)[:num_neighbors]\n",
    "\n",
    "\n",
    "data = np.array([[1, 2], [3, 4], [5, 6], [7, 8]])\n",
    "query = np.array([4, 5])\n",
    "num_neighbors = 2\n",
    "\n",
    "neighbors = get_neighbors(data, query, num_neighbors)\n",
    "print(\"Neighbors:\", neighbors)\n"
   ]
  },
  {
   "cell_type": "code",
   "execution_count": 7,
   "id": "acac0358-e1bd-418b-8c71-bf2164edab5b",
   "metadata": {},
   "outputs": [
    {
     "name": "stdout",
     "output_type": "stream",
     "text": [
      "[2 3 4 0 1 5]\n"
     ]
    }
   ],
   "source": [
    "import numpy as np\n",
    "\n",
    "arr = np.array([40, 50, 10, 20, 30, 60])\n",
    "\n",
    "sorted_indices = np.argsort(arr)\n",
    "print(sorted_indices)\n"
   ]
  },
  {
   "cell_type": "code",
   "execution_count": null,
   "id": "5b4aa18c-23d6-44ed-a9d3-502b84635ee2",
   "metadata": {},
   "outputs": [],
   "source": []
  }
 ],
 "metadata": {
  "kernelspec": {
   "display_name": "Python 3 (ipykernel)",
   "language": "python",
   "name": "python3"
  },
  "language_info": {
   "codemirror_mode": {
    "name": "ipython",
    "version": 3
   },
   "file_extension": ".py",
   "mimetype": "text/x-python",
   "name": "python",
   "nbconvert_exporter": "python",
   "pygments_lexer": "ipython3",
   "version": "3.12.6"
  }
 },
 "nbformat": 4,
 "nbformat_minor": 5
}
