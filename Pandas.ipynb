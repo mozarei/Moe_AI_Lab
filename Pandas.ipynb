{
 "cells": [
  {
   "cell_type": "code",
   "execution_count": 42,
   "id": "4a9be23e-35d0-4099-a745-2371b5d0f957",
   "metadata": {},
   "outputs": [],
   "source": [
    "import pandas as pd\n",
    "from sklearn.model_selection import train_test_split\n",
    "from sklearn.preprocessing import StandardScaler\n",
    "\n",
    "def preprocess_data(df):\n",
    "    # 1. Handle missing values by filling with median\n",
    "    df.fillna(df.median(), inplace=True)\n",
    "\n",
    "    # 2. Separate features and target\n",
    "    X = df.drop('target', axis=1)\n",
    "    y = df['target']\n",
    "\n",
    "    # 3. Split the data into training and test sets\n",
    "    X_train, X_test, y_train, y_test = train_test_split(X, y, test_size=0.2, random_state=42)\n",
    "\n",
    "    # 4. Normalize the features\n",
    "    scaler = StandardScaler()\n",
    "    X_train_scaled = scaler.fit_transform(X_train)\n",
    "    X_test_scaled = scaler.transform(X_test)\n",
    "\n",
    "    return X_train_scaled, X_test_scaled, y_train, y_test\n",
    "\n",
    "\n",
    "data = pd.DataFrame({\n",
    "    'feature1': [1, 2, 3, 4, 5, None],\n",
    "    'feature2': [10, 20, 30, 40, 50, 60],\n",
    "    'target': [0, 1, 0, 1, 0, 1]\n",
    "})\n",
    "X_train, X_test, y_train, y_test = preprocess_data(data)\n"
   ]
  },
  {
   "cell_type": "code",
   "execution_count": 4,
   "id": "3540d7b4-4ec3-4a65-9cf1-7ce32d69e195",
   "metadata": {},
   "outputs": [],
   "source": [
    "# !pip install pandas\n",
    "# import pandas as pd\n",
    "# print(dir(pd))"
   ]
  },
  {
   "cell_type": "code",
   "execution_count": 23,
   "id": "b159984c-8466-4604-a585-3335a2276afe",
   "metadata": {},
   "outputs": [],
   "source": [
    "import pandas as pd\n",
    "\n",
    "data = pd.DataFrame({\n",
    "    'feature1': [1, 2, 3, 4, 5, None],\n",
    "    'feature2': [10, 20, 30, 40, 50, 60],\n",
    "    'target': [0, 1, 0, 1, 0, 1]\n",
    "})"
   ]
  },
  {
   "cell_type": "code",
   "execution_count": 24,
   "id": "d3ecc31d-3709-4280-b27b-c891f590ce1f",
   "metadata": {},
   "outputs": [
    {
     "data": {
      "text/html": [
       "<div>\n",
       "<style scoped>\n",
       "    .dataframe tbody tr th:only-of-type {\n",
       "        vertical-align: middle;\n",
       "    }\n",
       "\n",
       "    .dataframe tbody tr th {\n",
       "        vertical-align: top;\n",
       "    }\n",
       "\n",
       "    .dataframe thead th {\n",
       "        text-align: right;\n",
       "    }\n",
       "</style>\n",
       "<table border=\"1\" class=\"dataframe\">\n",
       "  <thead>\n",
       "    <tr style=\"text-align: right;\">\n",
       "      <th></th>\n",
       "      <th>feature1</th>\n",
       "      <th>feature2</th>\n",
       "      <th>target</th>\n",
       "    </tr>\n",
       "  </thead>\n",
       "  <tbody>\n",
       "    <tr>\n",
       "      <th>0</th>\n",
       "      <td>1.0</td>\n",
       "      <td>10</td>\n",
       "      <td>0</td>\n",
       "    </tr>\n",
       "    <tr>\n",
       "      <th>1</th>\n",
       "      <td>2.0</td>\n",
       "      <td>20</td>\n",
       "      <td>1</td>\n",
       "    </tr>\n",
       "    <tr>\n",
       "      <th>2</th>\n",
       "      <td>3.0</td>\n",
       "      <td>30</td>\n",
       "      <td>0</td>\n",
       "    </tr>\n",
       "    <tr>\n",
       "      <th>3</th>\n",
       "      <td>4.0</td>\n",
       "      <td>40</td>\n",
       "      <td>1</td>\n",
       "    </tr>\n",
       "    <tr>\n",
       "      <th>4</th>\n",
       "      <td>5.0</td>\n",
       "      <td>50</td>\n",
       "      <td>0</td>\n",
       "    </tr>\n",
       "    <tr>\n",
       "      <th>5</th>\n",
       "      <td>NaN</td>\n",
       "      <td>60</td>\n",
       "      <td>1</td>\n",
       "    </tr>\n",
       "  </tbody>\n",
       "</table>\n",
       "</div>"
      ],
      "text/plain": [
       "   feature1  feature2  target\n",
       "0       1.0        10       0\n",
       "1       2.0        20       1\n",
       "2       3.0        30       0\n",
       "3       4.0        40       1\n",
       "4       5.0        50       0\n",
       "5       NaN        60       1"
      ]
     },
     "execution_count": 24,
     "metadata": {},
     "output_type": "execute_result"
    }
   ],
   "source": [
    "data"
   ]
  },
  {
   "cell_type": "code",
   "execution_count": 25,
   "id": "7f45ca7d-83e8-49be-8b10-a16112725c25",
   "metadata": {},
   "outputs": [],
   "source": [
    "df = data"
   ]
  },
  {
   "cell_type": "code",
   "execution_count": 27,
   "id": "4d30007e-c51f-4275-a2a9-19664eb025b3",
   "metadata": {},
   "outputs": [],
   "source": [
    "df.fillna(df.median(), inplace = True)"
   ]
  },
  {
   "cell_type": "code",
   "execution_count": 30,
   "id": "41907767-6651-4d76-86a3-aa4fec207d58",
   "metadata": {},
   "outputs": [],
   "source": [
    "X = df.drop(['target'], axis =1)\n",
    "y= df['target']"
   ]
  },
  {
   "cell_type": "code",
   "execution_count": 31,
   "id": "84dd2906-dc69-4711-8c7d-ba45b481892c",
   "metadata": {},
   "outputs": [],
   "source": [
    "# help(df.drop)"
   ]
  },
  {
   "cell_type": "code",
   "execution_count": 32,
   "id": "f5608403-904d-49d4-86c1-9b33c1f3d03a",
   "metadata": {},
   "outputs": [
    {
     "data": {
      "text/html": [
       "<div>\n",
       "<style scoped>\n",
       "    .dataframe tbody tr th:only-of-type {\n",
       "        vertical-align: middle;\n",
       "    }\n",
       "\n",
       "    .dataframe tbody tr th {\n",
       "        vertical-align: top;\n",
       "    }\n",
       "\n",
       "    .dataframe thead th {\n",
       "        text-align: right;\n",
       "    }\n",
       "</style>\n",
       "<table border=\"1\" class=\"dataframe\">\n",
       "  <thead>\n",
       "    <tr style=\"text-align: right;\">\n",
       "      <th></th>\n",
       "      <th>feature1</th>\n",
       "      <th>feature2</th>\n",
       "    </tr>\n",
       "  </thead>\n",
       "  <tbody>\n",
       "    <tr>\n",
       "      <th>0</th>\n",
       "      <td>1.0</td>\n",
       "      <td>10</td>\n",
       "    </tr>\n",
       "    <tr>\n",
       "      <th>1</th>\n",
       "      <td>2.0</td>\n",
       "      <td>20</td>\n",
       "    </tr>\n",
       "    <tr>\n",
       "      <th>2</th>\n",
       "      <td>3.0</td>\n",
       "      <td>30</td>\n",
       "    </tr>\n",
       "    <tr>\n",
       "      <th>3</th>\n",
       "      <td>4.0</td>\n",
       "      <td>40</td>\n",
       "    </tr>\n",
       "    <tr>\n",
       "      <th>4</th>\n",
       "      <td>5.0</td>\n",
       "      <td>50</td>\n",
       "    </tr>\n",
       "    <tr>\n",
       "      <th>5</th>\n",
       "      <td>3.0</td>\n",
       "      <td>60</td>\n",
       "    </tr>\n",
       "  </tbody>\n",
       "</table>\n",
       "</div>"
      ],
      "text/plain": [
       "   feature1  feature2\n",
       "0       1.0        10\n",
       "1       2.0        20\n",
       "2       3.0        30\n",
       "3       4.0        40\n",
       "4       5.0        50\n",
       "5       3.0        60"
      ]
     },
     "execution_count": 32,
     "metadata": {},
     "output_type": "execute_result"
    }
   ],
   "source": [
    "X"
   ]
  },
  {
   "cell_type": "code",
   "execution_count": 39,
   "id": "ddc5efc0-0eac-4d80-9d64-4781f45ee801",
   "metadata": {},
   "outputs": [],
   "source": [
    "from sklearn.model_selection import train_test_split\n",
    "\n",
    "X_train, X_test, y_train, y_test = train_test_split(X, y, test_size=0.2, random_state=42)"
   ]
  },
  {
   "cell_type": "code",
   "execution_count": 40,
   "id": "1cffa6a1-58bf-4f66-b10d-eaeadfa78a7f",
   "metadata": {},
   "outputs": [],
   "source": [
    "# help(train_test_split)"
   ]
  },
  {
   "cell_type": "code",
   "execution_count": 43,
   "id": "6b7e8545-80cc-4d57-9136-e4ae63f2d3a7",
   "metadata": {},
   "outputs": [],
   "source": [
    "scaler = StandardScaler()\n",
    "X_train_scaled = scaler.fit_transform(X_train)\n",
    "X_test_scaled = scaler.transform(X_test)"
   ]
  },
  {
   "cell_type": "code",
   "execution_count": 44,
   "id": "a8f8b861-8d32-49f3-8d23-49cc9f510716",
   "metadata": {},
   "outputs": [
    {
     "name": "stdout",
     "output_type": "stream",
     "text": [
      "\n",
      "Training Classification Model:\n",
      "Classification Accuracy: 0.5\n",
      "\n",
      "Training Regression Model:\n",
      "Regression Mean Squared Error: 0.2777777777777779\n",
      "\n",
      "Applying KMeans Clustering:\n",
      "Clustering Silhouette Score: 0.06525381975367067\n"
     ]
    }
   ],
   "source": [
    "import pandas as pd\n",
    "from sklearn.model_selection import train_test_split\n",
    "from sklearn.preprocessing import StandardScaler\n",
    "from sklearn.linear_model import LogisticRegression, LinearRegression\n",
    "from sklearn.cluster import KMeans\n",
    "from sklearn.metrics import accuracy_score, mean_squared_error, silhouette_score\n",
    "\n",
    "def preprocess_data(df):\n",
    "    # 1. Handle missing values by filling with the median\n",
    "    df.fillna(df.median(), inplace=True)\n",
    "\n",
    "    # 2. Separate features and target\n",
    "    X = df.drop('target', axis=1)\n",
    "    y = df['target']\n",
    "\n",
    "    # 3. Split the data into training and test sets\n",
    "    X_train, X_test, y_train, y_test = train_test_split(X, y, test_size=0.2, random_state=42)\n",
    "\n",
    "    # 4. Normalize the features\n",
    "    scaler = StandardScaler()\n",
    "    X_train_scaled = scaler.fit_transform(X_train)\n",
    "    X_test_scaled = scaler.transform(X_test)\n",
    "\n",
    "    return X_train_scaled, X_test_scaled, y_train, y_test\n",
    "\n",
    "def train_classification_model(X_train, X_test, y_train, y_test):\n",
    "    # Train a logistic regression classifier for classification tasks\n",
    "    clf = LogisticRegression()\n",
    "    clf.fit(X_train, y_train)\n",
    "    \n",
    "    # Predict and evaluate accuracy\n",
    "    y_pred = clf.predict(X_test)\n",
    "    accuracy = accuracy_score(y_test, y_pred)\n",
    "    \n",
    "    print(f'Classification Accuracy: {accuracy}')\n",
    "    return clf\n",
    "\n",
    "def train_regression_model(X_train, X_test, y_train, y_test):\n",
    "    # Train a linear regression model for regression tasks\n",
    "    reg = LinearRegression()\n",
    "    reg.fit(X_train, y_train)\n",
    "    \n",
    "    # Predict and evaluate using Mean Squared Error\n",
    "    y_pred = reg.predict(X_test)\n",
    "    mse = mean_squared_error(y_test, y_pred)\n",
    "    \n",
    "    print(f'Regression Mean Squared Error: {mse}')\n",
    "    return reg\n",
    "\n",
    "def apply_clustering(X):\n",
    "    # Apply KMeans clustering for unsupervised learning\n",
    "    kmeans = KMeans(n_clusters=2, random_state=42)\n",
    "    kmeans.fit(X)\n",
    "    \n",
    "    # Predict cluster labels and evaluate using silhouette score\n",
    "    cluster_labels = kmeans.predict(X)\n",
    "    silhouette_avg = silhouette_score(X, cluster_labels)\n",
    "    \n",
    "    print(f'Clustering Silhouette Score: {silhouette_avg}')\n",
    "    return kmeans, cluster_labels\n",
    "\n",
    "\n",
    "data = pd.DataFrame({\n",
    "    'feature1': [1, 2, 3, 4, 5, None],\n",
    "    'feature2': [10, 20, 30, 40, 50, 60],\n",
    "    'target': [0, 1, 0, 1, 0, 1]\n",
    "})\n",
    "\n",
    "# 1. Preprocess data\n",
    "X_train_scaled, X_test_scaled, y_train, y_test = preprocess_data(data)\n",
    "\n",
    "# 2. Train classification model (Logistic Regression)\n",
    "print(\"\\nTraining Classification Model:\")\n",
    "classifier = train_classification_model(X_train_scaled, X_test_scaled, y_train, y_test)\n",
    "\n",
    "# 3. Train regression model (Linear Regression)\n",
    "print(\"\\nTraining Regression Model:\")\n",
    "regressor = train_regression_model(X_train_scaled, X_test_scaled, y_train, y_test)\n",
    "\n",
    "# 4. Apply KMeans clustering\n",
    "print(\"\\nApplying KMeans Clustering:\")\n",
    "kmeans_model, cluster_labels = apply_clustering(X_train_scaled)\n"
   ]
  },
  {
   "cell_type": "code",
   "execution_count": null,
   "id": "51e6217b-3d42-448f-b706-ef5517a1c81d",
   "metadata": {},
   "outputs": [],
   "source": []
  }
 ],
 "metadata": {
  "kernelspec": {
   "display_name": "Python 3 (ipykernel)",
   "language": "python",
   "name": "python3"
  },
  "language_info": {
   "codemirror_mode": {
    "name": "ipython",
    "version": 3
   },
   "file_extension": ".py",
   "mimetype": "text/x-python",
   "name": "python",
   "nbconvert_exporter": "python",
   "pygments_lexer": "ipython3",
   "version": "3.12.6"
  }
 },
 "nbformat": 4,
 "nbformat_minor": 5
}
