{
 "cells": [
  {
   "cell_type": "markdown",
   "id": "7b691d6e-281a-4b70-9ec8-e5e73e535339",
   "metadata": {},
   "source": [
    "Question: Given an n x n binary matrix representing an image, where 0 represents black pixels and 1 represents white pixels, implement a function to determine the largest square containing only 1s and return its area."
   ]
  },
  {
   "cell_type": "code",
   "execution_count": 1,
   "id": "ea67e60d-233c-47d8-94d7-2592899d6470",
   "metadata": {},
   "outputs": [],
   "source": [
    "matrix = [\n",
    "    [1, 0, 1, 0, 0],\n",
    "    [1, 0, 1, 1, 1],\n",
    "    [1, 1, 1, 1, 1],\n",
    "    [1, 0, 0, 1, 0]\n",
    "]\n"
   ]
  },
  {
   "cell_type": "raw",
   "id": "6df70d6a-4e21-497b-be3b-1bcbbe86a762",
   "metadata": {},
   "source": [
    "Output: 4 (since the largest square of 1s has a side length of 2, so its area is 2 x 2 = 4)."
   ]
  },
  {
   "cell_type": "code",
   "execution_count": 5,
   "id": "925a35d2-e258-463a-aeb7-e0b18f28f170",
   "metadata": {},
   "outputs": [],
   "source": [
    "def maximal_square(matrix) -> int: #: List[List[int]]\n",
    "    for arr in matrix:\n",
    "        \n",
    "        \n",
    "        \n",
    "    return 1\n",
    "    \n"
   ]
  },
  {
   "cell_type": "code",
   "execution_count": 17,
   "id": "6b537060-8508-4566-b7a0-e312393e74c2",
   "metadata": {},
   "outputs": [],
   "source": [
    "from typing import List\n",
    "\n",
    "def maximal_square(matrix: List[List[int]]) -> int:\n",
    "    if not matrix or not matrix[0]:\n",
    "        return 0\n",
    "\n",
    "    rows, cols = len(matrix), len(matrix[0])\n",
    "    print(f\"Shape of the matrix is {rows}*{cols}\")\n",
    "    dp = [[0] * (cols + 1) for _ in range(rows + 1)]\n",
    "    print(f\"shape of dp is: {dp}\")\n",
    "    max_side = 0\n",
    "\n",
    "    for i in range(1, rows + 1):\n",
    "        for j in range(1, cols + 1):\n",
    "            if matrix[i - 1][j - 1] == 1:\n",
    "                dp[i][j] = min(dp[i - 1][j], dp[i][j - 1], dp[i - 1][j - 1]) + 1\n",
    "                max_side = max(max_side, dp[i][j])\n",
    "\n",
    "    return max_side * max_side\n"
   ]
  },
  {
   "cell_type": "code",
   "execution_count": 18,
   "id": "f336fb6e-e3a3-4840-b582-f35b4c15e544",
   "metadata": {},
   "outputs": [
    {
     "name": "stdout",
     "output_type": "stream",
     "text": [
      "Shape of the matrix is 4*5\n",
      "shape of dp is: [[0, 0, 0, 0, 0, 0], [0, 0, 0, 0, 0, 0], [0, 0, 0, 0, 0, 0], [0, 0, 0, 0, 0, 0], [0, 0, 0, 0, 0, 0]]\n"
     ]
    },
    {
     "data": {
      "text/plain": [
       "4"
      ]
     },
     "execution_count": 18,
     "metadata": {},
     "output_type": "execute_result"
    }
   ],
   "source": [
    "maximal_square(matrix)"
   ]
  },
  {
   "cell_type": "code",
   "execution_count": null,
   "id": "ef6db533-4bf8-4a27-92d2-e921ffd97998",
   "metadata": {},
   "outputs": [],
   "source": []
  }
 ],
 "metadata": {
  "kernelspec": {
   "display_name": "Python 3 (ipykernel)",
   "language": "python",
   "name": "python3"
  },
  "language_info": {
   "codemirror_mode": {
    "name": "ipython",
    "version": 3
   },
   "file_extension": ".py",
   "mimetype": "text/x-python",
   "name": "python",
   "nbconvert_exporter": "python",
   "pygments_lexer": "ipython3",
   "version": "3.12.6"
  }
 },
 "nbformat": 4,
 "nbformat_minor": 5
}
