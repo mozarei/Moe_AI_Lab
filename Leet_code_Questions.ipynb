{
 "cells": [
  {
   "cell_type": "code",
   "execution_count": 1,
   "id": "9dfca107-ea57-4353-bd22-dde40a83e7db",
   "metadata": {},
   "outputs": [
    {
     "name": "stdout",
     "output_type": "stream",
     "text": [
      "olleh\n"
     ]
    }
   ],
   "source": [
    "def reverse_string(s):\n",
    "    assert isinstance(s, str)\n",
    "    #s[start:stop:step]\n",
    "    return s[::-1]\n",
    "\n",
    "\n",
    "print(reverse_string(\"hello\")) "
   ]
  },
  {
   "cell_type": "markdown",
   "id": "51ff6917-3e03-483a-9d38-c06ef6e94f32",
   "metadata": {},
   "source": [
    "Write a function that finds the maximum element in a list without using the built-in max() function."
   ]
  },
  {
   "cell_type": "code",
   "execution_count": 28,
   "id": "d0101d38-6c29-49ef-923c-19aa87998b44",
   "metadata": {},
   "outputs": [],
   "source": [
    "def find_max(lst):\n",
    "    assert isinstance(lst, list)\n",
    "    max_ = lst[0]\n",
    "    for e in lst[1:]:\n",
    "        if e >= max_:\n",
    "            max_ = e\n",
    "        else:\n",
    "            pass\n",
    "    return max_"
   ]
  },
  {
   "cell_type": "code",
   "execution_count": 29,
   "id": "4e3d48f8-5c0d-46e5-9cb6-40f9f7148d13",
   "metadata": {},
   "outputs": [
    {
     "data": {
      "text/plain": [
       "54"
      ]
     },
     "execution_count": 29,
     "metadata": {},
     "output_type": "execute_result"
    }
   ],
   "source": [
    "lst = [2,44,14,5,6,7,9,54,0]\n",
    "find_max(lst)"
   ]
  },
  {
   "cell_type": "markdown",
   "id": "50c037ee-cac5-4a04-9536-f846facdd29e",
   "metadata": {},
   "source": [
    "Write a function to check if a given string is a palindrome (a string that reads the same forwards and backwards)."
   ]
  },
  {
   "cell_type": "code",
   "execution_count": 33,
   "id": "050e3645-1934-4365-991e-8d22f911677b",
   "metadata": {},
   "outputs": [
    {
     "name": "stdout",
     "output_type": "stream",
     "text": [
      "is W1 a palindrome? True\n"
     ]
    }
   ],
   "source": [
    "W1 = \"ABA\"\n",
    "W2 = \"ABC\"\n",
    "\n",
    "# W2[::] == W2[::-1] \n",
    "\n",
    "def check_palindrome(s):\n",
    "    assert isinstance(s, str)\n",
    "    return s == s[::-1]\n",
    "\n",
    "print(f\"is W1 a palindrome? {check_palindrome(W1)}\")"
   ]
  },
  {
   "cell_type": "markdown",
   "id": "a9432e39-c630-4281-bba2-0aff76d9faec",
   "metadata": {},
   "source": [
    "## Write a function that returns the nth Fibonacci number.\n",
    "# F(n) = F(n-1) + F(n-2) , n >= 2\n",
    "# F(0) = 0\n",
    "# F(1) = 1"
   ]
  },
  {
   "cell_type": "code",
   "execution_count": 50,
   "id": "101bf9e4-baaa-4e7d-a4b0-ee7b9bac18d5",
   "metadata": {},
   "outputs": [
    {
     "data": {
      "text/plain": [
       "55"
      ]
     },
     "execution_count": 50,
     "metadata": {},
     "output_type": "execute_result"
    }
   ],
   "source": [
    "def fibonacci(n):\n",
    "    assert isinstance(n, int)\n",
    "    assert n >= 0\n",
    "    if n <= 1:\n",
    "        return n\n",
    "\n",
    "    return fibonacci(n-1) + fibonacci(n-2)\n",
    "\n",
    "fibonacci(10)\n",
    "    \n",
    "    "
   ]
  },
  {
   "cell_type": "code",
   "execution_count": null,
   "id": "8a949be6-e7c3-44e7-9754-9ab5290a541f",
   "metadata": {},
   "outputs": [],
   "source": [
    "# Each term in the Fibonacci sequence is the sum of the two preceding terms.\n",
    "f(2) = 1\n",
    "f(3) = 2+1+0"
   ]
  },
  {
   "cell_type": "code",
   "execution_count": 51,
   "id": "189124a8-a808-45a1-84d4-e5ef3d19f4f3",
   "metadata": {},
   "outputs": [
    {
     "name": "stdout",
     "output_type": "stream",
     "text": [
      "a is 1\n",
      "b is 1\n",
      "--------\n",
      "a is 1\n",
      "b is 2\n",
      "--------\n",
      "a is 2\n",
      "b is 3\n",
      "--------\n",
      "a is 3\n",
      "b is 5\n",
      "--------\n",
      "a is 5\n",
      "b is 8\n",
      "--------\n",
      "a is 8\n",
      "b is 13\n",
      "--------\n",
      "a is 13\n",
      "b is 21\n",
      "--------\n",
      "a is 21\n",
      "b is 34\n",
      "--------\n",
      "a is 34\n",
      "b is 55\n",
      "--------\n"
     ]
    },
    {
     "data": {
      "text/plain": [
       "55"
      ]
     },
     "execution_count": 51,
     "metadata": {},
     "output_type": "execute_result"
    }
   ],
   "source": [
    "def fib(n):\n",
    "    if n <= 1:\n",
    "        return n\n",
    "    a,b = 0,1\n",
    "    for _ in range(2 , n+1):\n",
    "        a, b = b , a+b\n",
    "        print(f\"a is {a}\")\n",
    "        print(f\"b is {b}\")\n",
    "        print(\"--------\")\n",
    "    return b\n",
    "\n",
    "fib(10)\n",
    "        "
   ]
  },
  {
   "cell_type": "code",
   "execution_count": 45,
   "id": "cc1f1763-668b-473d-9a0e-1f3ef93af210",
   "metadata": {},
   "outputs": [
    {
     "name": "stdout",
     "output_type": "stream",
     "text": [
      "2\n",
      "3\n"
     ]
    }
   ],
   "source": [
    "n= 3\n",
    "for i in range(2 , n+1):\n",
    "    print(i)"
   ]
  },
  {
   "cell_type": "code",
   "execution_count": 57,
   "id": "c4f0105a-dc8a-49f7-adf4-4e8a4d14bcf6",
   "metadata": {},
   "outputs": [
    {
     "name": "stdout",
     "output_type": "stream",
     "text": [
      "15\n"
     ]
    }
   ],
   "source": [
    "#Write a function that calculates the sum of digits of a given integer.\n",
    "\n",
    "digits = 12345\n",
    "lst = []\n",
    "for i in str(digits):\n",
    "    lst.append(int(i))\n",
    "print(sum(lst))\n",
    "    "
   ]
  },
  {
   "cell_type": "code",
   "execution_count": 59,
   "id": "6c335288-d6ad-4ff5-9b51-111fc92ff86c",
   "metadata": {},
   "outputs": [
    {
     "data": {
      "text/plain": [
       "15"
      ]
     },
     "execution_count": 59,
     "metadata": {},
     "output_type": "execute_result"
    }
   ],
   "source": [
    "def sum_digit(n):\n",
    "    return sum([int(i) for i in str(n)])\n",
    "sum_digit(12345)"
   ]
  },
  {
   "cell_type": "code",
   "execution_count": 64,
   "id": "1fb7843e-a0f2-4455-b0a3-abe8749eac97",
   "metadata": {},
   "outputs": [
    {
     "ename": "IndexError",
     "evalue": "string index out of range",
     "output_type": "error",
     "traceback": [
      "\u001b[0;31m---------------------------------------------------------------------------\u001b[0m",
      "\u001b[0;31mIndexError\u001b[0m                                Traceback (most recent call last)",
      "Cell \u001b[0;32mIn[64], line 12\u001b[0m\n\u001b[1;32m      8\u001b[0m             lst\u001b[38;5;241m.\u001b[39mappend(s[c])\n\u001b[1;32m      9\u001b[0m     \u001b[38;5;28;01mreturn\u001b[39;00m lst[\u001b[38;5;241m0\u001b[39m]\n\u001b[0;32m---> 12\u001b[0m \u001b[43mnon_repeading\u001b[49m\u001b[43m(\u001b[49m\u001b[38;5;124;43m\"\u001b[39;49m\u001b[38;5;124;43mnnssdffr\u001b[39;49m\u001b[38;5;124;43m\"\u001b[39;49m\u001b[43m)\u001b[49m\n",
      "Cell \u001b[0;32mIn[64], line 5\u001b[0m, in \u001b[0;36mnon_repeading\u001b[0;34m(s)\u001b[0m\n\u001b[1;32m      3\u001b[0m lst \u001b[38;5;241m=\u001b[39m []\n\u001b[1;32m      4\u001b[0m \u001b[38;5;28;01mfor\u001b[39;00m c \u001b[38;5;129;01min\u001b[39;00m \u001b[38;5;28mrange\u001b[39m(\u001b[38;5;28mlen\u001b[39m(s) \u001b[38;5;241m+\u001b[39m \u001b[38;5;241m1\u001b[39m):\n\u001b[0;32m----> 5\u001b[0m     \u001b[38;5;28;01mif\u001b[39;00m \u001b[43ms\u001b[49m\u001b[43m[\u001b[49m\u001b[43mc\u001b[49m\u001b[43m]\u001b[49m \u001b[38;5;129;01min\u001b[39;00m s:\n\u001b[1;32m      6\u001b[0m         \u001b[38;5;28;01mpass\u001b[39;00m\n\u001b[1;32m      7\u001b[0m     \u001b[38;5;28;01melse\u001b[39;00m:\n",
      "\u001b[0;31mIndexError\u001b[0m: string index out of range"
     ]
    }
   ],
   "source": [
    "# Write a function that finds the first non-repeating character in a string.\n",
    "def non_repeading(s):\n",
    "    lst = []\n",
    "    for c in range(len(s) + 1):\n",
    "        if s[c] in s:\n",
    "            pass\n",
    "        else:\n",
    "            lst.append(s[c])\n",
    "    return lst[0]\n",
    "\n",
    "\n",
    "non_repeading(\"nnssdffr\")"
   ]
  },
  {
   "cell_type": "code",
   "execution_count": null,
   "id": "c96f8e8c-3dd1-4290-9170-8e2b30481c19",
   "metadata": {},
   "outputs": [],
   "source": [
    "def not_repeating(s):\n",
    "    char_count = {}\n",
    "    for char is s:\n",
    "    char_count[char] = \n",
    "    "
   ]
  },
  {
   "cell_type": "code",
   "execution_count": 67,
   "id": "0ff84379-fec4-4b74-867d-531cb16e0565",
   "metadata": {},
   "outputs": [
    {
     "name": "stdout",
     "output_type": "stream",
     "text": [
      "[1, 2, 3, 4, 5, 6]\n"
     ]
    }
   ],
   "source": [
    "lst = [3, 2, 1, 5, 6, 4]\n",
    "print(sorted(lst))"
   ]
  },
  {
   "cell_type": "code",
   "execution_count": 71,
   "id": "387bfb3b-307d-46de-bdab-9b9c8a1b53f2",
   "metadata": {},
   "outputs": [
    {
     "name": "stdout",
     "output_type": "stream",
     "text": [
      "5\n"
     ]
    }
   ],
   "source": [
    "print(sorted(lst)[-2])"
   ]
  },
  {
   "cell_type": "code",
   "execution_count": 73,
   "id": "0081be5b-df71-426c-a7b5-3b0ce7b9c86a",
   "metadata": {},
   "outputs": [
    {
     "name": "stdout",
     "output_type": "stream",
     "text": [
      "first mid is 2\n",
      "arr mid is 3 so left = mid+1\n",
      "first mid is 4\n",
      "arr mid is 5 so right = mid-1\n",
      "first mid is 3\n",
      "3\n"
     ]
    }
   ],
   "source": [
    "def binary_search(arr, target):\n",
    "    left, right = 0, len(arr) - 1\n",
    "    while left <= right:\n",
    "        mid = (left + right) // 2\n",
    "        print(f\"first mid is {mid}\")\n",
    "        if arr[mid] == target:\n",
    "            return mid\n",
    "        elif arr[mid] < target:\n",
    "            print(f\"arr mid is {arr[mid]} so left = mid+1\")\n",
    "            left = mid + 1\n",
    "        else:\n",
    "            print(f\"arr mid is {arr[mid]} so right = mid-1\")\n",
    "            right = mid - 1\n",
    "    return -1\n",
    "\n",
    "# Example usage:\n",
    "print(binary_search([1, 2, 3, 4, 5, 6], 4))  # Output: 3\n"
   ]
  },
  {
   "cell_type": "code",
   "execution_count": 74,
   "id": "4bc079e5-23bf-4b9d-bbab-1f35b7bfa027",
   "metadata": {},
   "outputs": [
    {
     "name": "stdout",
     "output_type": "stream",
     "text": [
      "first mid is 2\n",
      "arr mid is 3 so left = mid+1\n",
      "first mid is 4\n",
      "arr mid is 5 so right = mid-1\n",
      "first mid is 3\n",
      "3\n"
     ]
    }
   ],
   "source": [
    "# Example usage:\n",
    "print(binary_search([1, 2, 3, 4, 5, 6], 4))  # Output: 3"
   ]
  },
  {
   "cell_type": "code",
   "execution_count": null,
   "id": "af2da113-45c0-4e20-b031-ae96941d5a2d",
   "metadata": {},
   "outputs": [],
   "source": []
  }
 ],
 "metadata": {
  "kernelspec": {
   "display_name": "Python 3 (ipykernel)",
   "language": "python",
   "name": "python3"
  },
  "language_info": {
   "codemirror_mode": {
    "name": "ipython",
    "version": 3
   },
   "file_extension": ".py",
   "mimetype": "text/x-python",
   "name": "python",
   "nbconvert_exporter": "python",
   "pygments_lexer": "ipython3",
   "version": "3.12.6"
  }
 },
 "nbformat": 4,
 "nbformat_minor": 5
}
