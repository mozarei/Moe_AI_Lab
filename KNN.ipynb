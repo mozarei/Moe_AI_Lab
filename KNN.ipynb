{
 "cells": [
  {
   "cell_type": "code",
   "execution_count": 1,
   "id": "24642c62-59a4-49ae-827c-8b648edee5ac",
   "metadata": {},
   "outputs": [],
   "source": [
    "# K-means\n",
    "\n",
    "# Choose K (the number of clusters).\n",
    "# Randomly initialize K centroids (cluster centers).\n",
    "# Assign each data point to the nearest centroid.\n",
    "# Recalculate the centroids based on the assigned points.\n",
    "# Repeat the process until centroids don't change significantly."
   ]
  },
  {
   "cell_type": "code",
   "execution_count": 3,
   "id": "e485a630-c820-47b2-bd35-a321c13c6de9",
   "metadata": {},
   "outputs": [
    {
     "name": "stdout",
     "output_type": "stream",
     "text": [
      "shape of the data is: (100, 2)\n",
      "Initial Centroids are [[0.57249521 0.32411916]\n",
      " [0.46733017 0.44358338]\n",
      " [0.14254871 0.57289113]]\n",
      "Final Centroids are: [[0.64494801 0.16046111]\n",
      " [0.71111596 0.79134891]\n",
      " [0.22108557 0.47647313]]\n"
     ]
    }
   ],
   "source": [
    "import numpy as np\n",
    "\n",
    "def k_means(X, K, max_iters=100):\n",
    "    # Step 1: Randomly initialize K centroids\n",
    "    centroids = X[np.random.choice(range(X.shape[0]), K, replace=False)]\n",
    "    print(f\"shape of the data is: {X.shape}\")\n",
    "    print(f\"Initial Centroids are {centroids}\")\n",
    "    \n",
    "    for _ in range(max_iters):\n",
    "        # Step 2: Assign each point to the nearest centroid\n",
    "        distances = np.linalg.norm(X[:, np.newaxis] - centroids, axis=2)\n",
    "        labels = np.argmin(distances, axis=1)\n",
    "        \n",
    "        # Step 3: Recompute centroids as the mean of the assigned points\n",
    "        new_centroids = np.array([X[labels == k].mean(axis=0) for k in range(K)])\n",
    "        \n",
    "        # If centroids don't change, break\n",
    "        if np.all(centroids == new_centroids):\n",
    "            break\n",
    "        \n",
    "        centroids = new_centroids\n",
    "    \n",
    "    return centroids, labels\n",
    "\n",
    "\n",
    "X = np.random.rand(100, 2)\n",
    "centroids, labels = k_means(X, 3)\n",
    "print(f\"Final Centroids are: {centroids}\")\n"
   ]
  },
  {
   "cell_type": "code",
   "execution_count": 8,
   "id": "f8dc76ab-2047-419a-894a-1b75fdde02ff",
   "metadata": {},
   "outputs": [
    {
     "name": "stdout",
     "output_type": "stream",
     "text": [
      "[0.94180168 0.17270976]\n"
     ]
    }
   ],
   "source": [
    "print(X[0])"
   ]
  },
  {
   "cell_type": "code",
   "execution_count": 9,
   "id": "71a7271f-fb2b-4e13-8bfc-9e38e70161c1",
   "metadata": {},
   "outputs": [
    {
     "name": "stdout",
     "output_type": "stream",
     "text": [
      "shape of the data is: (100, 2)\n",
      "Initial Centroids are [[0.62858744 0.90034202]\n",
      " [0.99865033 0.9489701 ]\n",
      " [0.02275996 0.01538559]]\n",
      "Final Centroids are: [[0.35729255 0.80049632]\n",
      " [0.88367998 0.57822229]\n",
      " [0.35682423 0.23522763]]\n"
     ]
    }
   ],
   "source": [
    "import numpy as np\n",
    "\n",
    "class KMeans:\n",
    "    def __init__(self, K, max_iters=100):\n",
    "        self.K = K  # Number of clusters\n",
    "        self.max_iters = max_iters  # Maximum number of iterations\n",
    "        self.centroids = None  # To store the centroids\n",
    "        self.labels = None  # To store the cluster assignments\n",
    "    \n",
    "    def fit(self, X):\n",
    "        # Step 1: Randomly initialize K centroids\n",
    "        self.centroids = X[np.random.choice(range(X.shape[0]), self.K, replace=False)]\n",
    "        print(f\"shape of the data is: {X.shape}\")\n",
    "        print(f\"Initial Centroids are {self.centroids}\")\n",
    "        \n",
    "        for _ in range(self.max_iters):\n",
    "            # Step 2: Assign each point to the nearest centroid\n",
    "            distances = np.linalg.norm(X[:, np.newaxis] - self.centroids, axis=2)\n",
    "            self.labels = np.argmin(distances, axis=1)\n",
    "            \n",
    "            # Step 3: Recompute centroids as the mean of the assigned points\n",
    "            new_centroids = np.array([X[self.labels == k].mean(axis=0) for k in range(self.K)])\n",
    "            \n",
    "            # If centroids don't change, break\n",
    "            if np.all(self.centroids == new_centroids):\n",
    "                break\n",
    "            \n",
    "            self.centroids = new_centroids\n",
    "    \n",
    "    def predict(self, X):\n",
    "        # Assign new data points to the nearest centroid\n",
    "        distances = np.linalg.norm(X[:, np.newaxis] - self.centroids, axis=2)\n",
    "        return np.argmin(distances, axis=1)\n",
    "    \n",
    "    def get_centroids(self):\n",
    "        # Return the final centroids\n",
    "        return self.centroids\n",
    "    \n",
    "    def get_labels(self):\n",
    "        # Return the labels (cluster assignments) for the training data\n",
    "        return self.labels\n",
    "\n",
    "X = np.random.rand(100, 2)  # Generate random 2D data\n",
    "kmeans = KMeans(K=3)  # Create a KMeans instance with 3 clusters\n",
    "kmeans.fit(X)  # Fit the model to the data\n",
    "print(f\"Final Centroids are: {kmeans.get_centroids()}\")\n"
   ]
  },
  {
   "cell_type": "code",
   "execution_count": null,
   "id": "301606a1-4427-41d2-9990-4834671c8fe6",
   "metadata": {},
   "outputs": [],
   "source": []
  }
 ],
 "metadata": {
  "kernelspec": {
   "display_name": "Python 3 (ipykernel)",
   "language": "python",
   "name": "python3"
  },
  "language_info": {
   "codemirror_mode": {
    "name": "ipython",
    "version": 3
   },
   "file_extension": ".py",
   "mimetype": "text/x-python",
   "name": "python",
   "nbconvert_exporter": "python",
   "pygments_lexer": "ipython3",
   "version": "3.12.6"
  }
 },
 "nbformat": 4,
 "nbformat_minor": 5
}
